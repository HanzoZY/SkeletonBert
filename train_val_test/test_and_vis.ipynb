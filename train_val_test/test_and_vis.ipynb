{
 "cells": [
  {
   "cell_type": "code",
   "execution_count": null,
   "metadata": {},
   "outputs": [],
   "source": [
    "# %matplotlib inline\n",
    "# %matplotlib qt5\n",
    "%matplotlib widget\n",
    "import numpy as np\n",
    "from eval_and_vis import eval_vis_model\n",
    "import matplotlib.pyplot as plt\n",
    "import asyncio"
   ]
  },
  {
   "cell_type": "code",
   "execution_count": null,
   "metadata": {},
   "outputs": [],
   "source": [
    "config_path = './work_dir/ntu60/dstanet_drop0_6090120_128/ntu60_dstanet.yaml'\n",
    "vid = 'S004C001P003R001A032'"
   ]
  },
  {
   "cell_type": "code",
   "execution_count": null,
   "metadata": {},
   "outputs": [],
   "source": [
    "data, edge, is_3d, tag = eval_vis_model(vid = vid, config_path=config_path)"
   ]
  },
  {
   "cell_type": "code",
   "execution_count": null,
   "metadata": {},
   "outputs": [],
   "source": [
    "N, C, T, V, M = data.shape\n",
    "plt.ion()\n",
    "fig = plt.figure()\n",
    "fig.suptitle(tag)\n",
    "if is_3d:\n",
    "    from mpl_toolkits.mplot3d import Axes3D\n",
    "    ax = fig.add_subplot(111, projection='3d')\n",
    "else:\n",
    "    ax = fig.add_subplot(111)\n",
    "p_type = ['b-', 'g-', 'r-', 'c-', 'm-', 'y-', 'k-', 'k-', 'k-', 'k-']\n",
    "pose = []\n",
    "for m in range(M):\n",
    "    a = []\n",
    "    for i in range(len(edge)):\n",
    "        if is_3d:\n",
    "            a.append(ax.plot(np.zeros(3), np.zeros(3), p_type[m])[0])\n",
    "        else:\n",
    "            a.append(ax.plot(np.zeros(2), np.zeros(2), p_type[m])[0])\n",
    "    pose.append(a)\n",
    "ax.axis([-1, 1, -1, 1])\n",
    "if is_3d:\n",
    "    ax.set_zlim3d(-1, 1)\n",
    "plt.axis('on')\n",
    "async def update():\n",
    "    for t in range(T):\n",
    "        for m in range(M):\n",
    "            for i, (v1, v2) in enumerate(edge):\n",
    "                x1 = data[0, :2, t, v1, m]\n",
    "                x2 = data[0, :2, t, v2, m]\n",
    "                if (x1.sum() != 0 and x2.sum() != 0) or v1 == 1 or v2 == 1:\n",
    "                    pose[m][i].set_xdata(data[0, 0, t, [v1, v2], m])\n",
    "                    pose[m][i].set_ydata(data[0, 1, t, [v1, v2], m])\n",
    "                    if is_3d:\n",
    "                        pose[m][i].set_3d_properties(data[0, 2, t, [v1, v2], m])\n",
    "        fig.canvas.draw()\n",
    "        await asyncio.sleep(0.02)\n",
    "loop = asyncio.get_event_loop()\n",
    "loop.create_task(update())\n",
    "plt.close()\n",
    "plt.ioff()\n",
    "print('end')"
   ]
  }
 ],
 "metadata": {
  "kernelspec": {
   "display_name": "Python 3",
   "language": "python",
   "name": "python3"
  },
  "language_info": {
   "codemirror_mode": {
    "name": "ipython",
    "version": 3
   },
   "file_extension": ".py",
   "mimetype": "text/x-python",
   "name": "python",
   "nbconvert_exporter": "python",
   "pygments_lexer": "ipython3",
   "version": "3.7.9"
  }
 },
 "nbformat": 4,
 "nbformat_minor": 4
}
